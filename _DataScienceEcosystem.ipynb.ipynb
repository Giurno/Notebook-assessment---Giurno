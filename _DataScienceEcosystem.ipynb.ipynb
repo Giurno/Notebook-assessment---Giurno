{
 "cells": [
  {
   "cell_type": "markdown",
   "metadata": {},
   "source": [
    "<center>\n",
    "    <img src=\"https://cf-courses-data.s3.us.cloud-object-storage.appdomain.cloud/IBMDeveloperSkillsNetwork-DS0105EN-SkillsNetwork/labs/Module2/images/SN_web_lightmode.png\" width=\"300\" alt=\"cognitiveclass.ai logo\">\n",
    "</center>\n"
   ]
  },
  {
   "cell_type": "markdown",
   "metadata": {},
   "source": [
    "#### Add your code below following the instructions given in the course\n"
   ]
  },
  {
   "cell_type": "markdown",
   "metadata": {},
   "source": [
    "# Data Science Tools and Ecosystem"
   ]
  },
  {
   "cell_type": "markdown",
   "metadata": {
    "tags": []
   },
   "source": [
    "[2-title.png](https://dragon.online-convert.com/download-file/a8a7a2cb-88a2-4eb8-b300-9e549b460ab0/2424e7f0-7a64-48ad-a2e8-ba91a6de5a91)"
   ]
  },
  {
   "cell_type": "markdown",
   "metadata": {
    "tags": []
   },
   "source": [
    "In this notebook, Data Science Tools and Ecosystem are summarized."
   ]
  },
  {
   "cell_type": "markdown",
   "metadata": {
    "tags": []
   },
   "source": [
    "[3-intro.png](https://dragon.online-convert.com/download-file/0b5b1454-1e1b-448a-aaf2-6f38399b8807/2398d6f9-a782-489a-a88f-6f4354b2fa00)"
   ]
  },
  {
   "cell_type": "markdown",
   "metadata": {},
   "source": [
    "Some of the popular languages that Data Scientists use are:"
   ]
  },
  {
   "cell_type": "markdown",
   "metadata": {},
   "source": [
    "1. Python\n",
    "2. C++\n",
    "3. SQL"
   ]
  },
  {
   "cell_type": "markdown",
   "metadata": {},
   "source": [
    "[4-dslanguages.png](https://dragon.online-convert.com/download-file/68c20603-5bfe-42dc-9c03-3046bba86eef/e49805cd-a5bf-4c52-835c-4fcf5097f2e4)"
   ]
  },
  {
   "cell_type": "markdown",
   "metadata": {},
   "source": [
    "Some of the commonly used libraries used by Data Scientists include:"
   ]
  },
  {
   "cell_type": "markdown",
   "metadata": {},
   "source": [
    "1. Matplotlib\n",
    "2. NumPy\n",
    "3. Pandas"
   ]
  },
  {
   "cell_type": "markdown",
   "metadata": {
    "tags": []
   },
   "source": [
    "[5-dslibraries.png](https://dragon.online-convert.com/download-file/4017ebf8-96fc-49fd-becc-214190ac7b5e/5aad2c32-d5b0-4f80-8714-4bd89a400579)"
   ]
  },
  {
   "cell_type": "markdown",
   "metadata": {},
   "source": [
    "| Data Science Tools |\n",
    "| ------------------ |\n",
    "| Jupyter notebook |\n",
    "| Seaborn |\n",
    "| MLflow |"
   ]
  },
  {
   "cell_type": "markdown",
   "metadata": {},
   "source": [
    "[6-dstools.png](https://dragon.online-convert.com/download-file/ab6cee9a-7fa3-4c14-9b30-b5be7b2e8c09/2e217503-488e-40cb-a5bd-b471dd6ca094)"
   ]
  },
  {
   "cell_type": "markdown",
   "metadata": {},
   "source": [
    "### Below are a few examples of evaluating arithmetic expressions in Python"
   ]
  },
  {
   "cell_type": "markdown",
   "metadata": {},
   "source": [
    "[7-introarithmetic.png](https://dragon.online-convert.com/download-file/9f69536b-23ff-4b17-984a-080ae1fc430a/d88dca84-b710-4306-be8e-6fe59ae285f1)"
   ]
  },
  {
   "cell_type": "markdown",
   "metadata": {},
   "source": [
    "This a simple arithmetic expression to mutiply then add integers"
   ]
  },
  {
   "cell_type": "code",
   "execution_count": 5,
   "metadata": {
    "tags": []
   },
   "outputs": [
    {
     "data": {
      "text/plain": [
       "17"
      ]
     },
     "execution_count": 5,
     "metadata": {},
     "output_type": "execute_result"
    }
   ],
   "source": [
    "(3*4)+5"
   ]
  },
  {
   "cell_type": "markdown",
   "metadata": {
    "tags": []
   },
   "source": [
    "[8-multiplyandaddintegers.png](https://dragon.online-convert.com/download-file/fae4d66d-dc1e-4c2c-9b22-564e4e25d13d/80d7707c-b3a9-4238-b265-33a0b89b0e53)"
   ]
  },
  {
   "cell_type": "code",
   "execution_count": 8,
   "metadata": {
    "tags": []
   },
   "outputs": [
    {
     "data": {
      "text/plain": [
       "3"
      ]
     },
     "execution_count": 8,
     "metadata": {},
     "output_type": "execute_result"
    }
   ],
   "source": [
    "200//60"
   ]
  },
  {
   "cell_type": "markdown",
   "metadata": {},
   "source": [
    "[9-hourstominutes.png](https://dragon.online-convert.com/download-file/63d7bf5d-5751-4489-b7d2-b30965a982c9/d7ede9bd-d2fa-46c2-9003-0f44d51a7838)\n"
   ]
  },
  {
   "cell_type": "markdown",
   "metadata": {
    "tags": []
   },
   "source": [
    "**Objectives:**"
   ]
  },
  {
   "cell_type": "markdown",
   "metadata": {},
   "source": [
    "- Data management\n",
    "- Data visualization\n",
    "- Model building"
   ]
  },
  {
   "cell_type": "markdown",
   "metadata": {
    "tags": []
   },
   "source": [
    "[10-objectives.png](https://dragon.online-convert.com/download-file/17eecb8d-ff18-4510-808f-8d827d35bc95/2e4873a5-7f53-4011-8fb1-e66e42554d9b)"
   ]
  },
  {
   "cell_type": "markdown",
   "metadata": {},
   "source": [
    "## Author"
   ]
  },
  {
   "cell_type": "markdown",
   "metadata": {},
   "source": [
    "Natacha Giurno"
   ]
  },
  {
   "cell_type": "markdown",
   "metadata": {},
   "source": [
    "[11-authordetails.png](https://dragon.online-convert.com/download-file/58ddd58d-80f4-455f-9ef3-7e3693504cf0/3b16e363-610c-4aa1-811e-3c8ad4d89b3a)"
   ]
  },
  {
   "cell_type": "code",
   "execution_count": null,
   "metadata": {},
   "outputs": [],
   "source": []
  }
 ],
 "metadata": {
  "kernelspec": {
   "display_name": "Python",
   "language": "python",
   "name": "conda-env-python-py"
  },
  "language_info": {
   "codemirror_mode": {
    "name": "ipython",
    "version": 3
   },
   "file_extension": ".py",
   "mimetype": "text/x-python",
   "name": "python",
   "nbconvert_exporter": "python",
   "pygments_lexer": "ipython3",
   "version": "3.7.12"
  }
 },
 "nbformat": 4,
 "nbformat_minor": 4
}
